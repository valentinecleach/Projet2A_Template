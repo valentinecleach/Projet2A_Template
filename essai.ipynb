{
 "cells": [
  {
   "cell_type": "code",
   "execution_count": null,
   "metadata": {},
   "outputs": [],
   "source": [
    "# MOCK TESTS WITH PYTEST\n",
    "# \n",
    "\n",
    "from unittest import mock\n",
    "\n",
    "import pytest\n",
    "from typing import TYPE_CHECKING, Literal, Optional, Union\n",
    "from src.DAO.movie_dao import MovieDAO\n",
    "from datetime import date\n",
    "from src.Model.movie import Movie\n",
    "from tests.conftest import avatar  # Assurez-vous que `avatar` est bien défini ici\n",
    "\n",
    "class MockMovieDBConnector:\n",
    "    def __init__(self, movie=None):\n",
    "        self.movie = movie or avatar  # Utilise l'avatar si aucun film n'est fourni\n",
    "\n",
    "    def sql_query(\n",
    "        self,\n",
    "        query: str,\n",
    "        data: Optional[Union[tuple, list, dict]] = None,\n",
    "        return_type: Union[Literal[\"one\"], Literal[\"all\"]] = \"one\",\n",
    "    ):\n",
    "        match query:\n",
    "            case \"SELECT * FROM movie WHERE id_movie=%s\":\n",
    "                if not data:\n",
    "                    raise Exception(\"No data provided.\")\n",
    "                id_movie = data[0]  # Récupère l'ID à partir de la donnée\n",
    "                if id_movie == 19995:\n",
    "                    return Movie(**self.movie)\n",
    "        return None  # Pour d'autres requêtes non définies\n",
    "\n",
    "@pytest.fixture\n",
    "def mock_db_connection():\n",
    "    return MockMovieDBConnector()\n",
    "\n",
    "def test_get_movie_by_id(mock_db_connection):\n",
    "    movie_dao = MovieDAO(mock_db_connection)\n",
    "    movie = movie_dao.get_by_id(19995)\n",
    "    \n",
    "    assert movie is not None\n",
    "    assert movie.id_movie == 19995\n",
    "    assert movie.title == \"Avatar\"\n",
    "    assert movie.adult is False\n",
    "    assert movie.budget == 237000000\n",
    "\n",
    "def test_get_movie_by_non_existent_id(mock_db_connection):\n",
    "    movie_dao = MovieDAO(mock_db_connection)\n",
    "    movie = movie_dao.get_by_id(99999)  # ID qui n'existe pas\n",
    "    \n",
    "    assert movie is None  # Vérifiez que la méthode renvoie None pour un film inexistant\n",
    "\n"
   ]
  },
  {
   "cell_type": "code",
   "execution_count": 3,
   "metadata": {},
   "outputs": [
    {
     "name": "stdout",
     "output_type": "stream",
     "text": [
      "9da90a168c5026a3291f7612de2caebc7e36ae4c630416fc3332a41a1c630fee\n"
     ]
    }
   ],
   "source": [
    "from src.Service.password_service import hash_password, create_salt\n",
    "\n",
    "password = \"NoCode\"\n",
    "salt = [\"tes\", \"tuser\", \"2\"]\n",
    "hashed_password = hash_password(password)\n",
    "print(hashed_password)    "
   ]
  },
  {
   "cell_type": "code",
   "execution_count": null,
   "metadata": {},
   "outputs": [
    {
     "name": "stdout",
     "output_type": "stream",
     "text": [
      "Title : Movie 1, ( ID: 1 ), Release Date: 2023-01-01, Popularity: 8.5, Vote Average: 7.5, Vote Count: 1000\n"
     ]
    }
   ],
   "source": [
    "from src.Model.connected_user import ConnectedUser\n",
    "from src.Model.genre import Genre\n",
    "from src.Model.movie import Movie\n",
    "from datetime import date\n",
    "d = Movie(\n",
    "                id_movie=1,\n",
    "                title=\"Movie 1\",\n",
    "                belongs_to_collection=None,\n",
    "                budget=1000000,\n",
    "                genres=[Genre(id=123, name=\"Musical Comedy\")],\n",
    "                origin_country=[\"US\"],\n",
    "                original_language=\"en\",\n",
    "                original_title=\"Movie 1\",\n",
    "                overview=\"Overview 1\",\n",
    "                popularity=8.5,\n",
    "                release_date=date(2023, 1, 1),\n",
    "                revenue=5000000,\n",
    "                runtime=120,\n",
    "                vote_average=7.5,\n",
    "                vote_count=1000,\n",
    "                adult=False,\n",
    "            )\n",
    "print (d)"
   ]
  },
  {
   "cell_type": "code",
   "execution_count": null,
   "metadata": {},
   "outputs": [
    {
     "ename": "ValueError",
     "evalue": "dictionary update sequence element #0 has length 12; 2 is required",
     "output_type": "error",
     "traceback": [
      "\u001b[1;31m---------------------------------------------------------------------------\u001b[0m",
      "\u001b[1;31mValueError\u001b[0m                                Traceback (most recent call last)",
      "Cell \u001b[1;32mIn[8], line 17\u001b[0m\n\u001b[0;32m      1\u001b[0m result\u001b[38;5;241m=\u001b[39m [\n\u001b[0;32m      2\u001b[0m             {\n\u001b[0;32m      3\u001b[0m                 \u001b[38;5;124m\"\u001b[39m\u001b[38;5;124mid_user\u001b[39m\u001b[38;5;124m\"\u001b[39m: \u001b[38;5;241m2\u001b[39m,\n\u001b[1;32m   (...)\u001b[0m\n\u001b[0;32m     15\u001b[0m             }\n\u001b[0;32m     16\u001b[0m         ]\n\u001b[1;32m---> 17\u001b[0m user \u001b[38;5;241m=\u001b[39m \u001b[38;5;28;43mdict\u001b[39;49m\u001b[43m(\u001b[49m\u001b[43mresult\u001b[49m\u001b[43m)\u001b[49m\n\u001b[0;32m     18\u001b[0m \u001b[38;5;28mprint\u001b[39m(ConnectedUser(\u001b[38;5;241m*\u001b[39m\u001b[38;5;241m*\u001b[39muser))\n",
      "\u001b[1;31mValueError\u001b[0m: dictionary update sequence element #0 has length 12; 2 is required"
     ]
    }
   ],
   "source": [
    "result= [\n",
    "            {\n",
    "                \"id_user\": 2,\n",
    "                \"username\": \"user2\",\n",
    "                \"hashed_password\": \"hashed2\",\n",
    "                \"date_of_birth\": date(1992, 2, 2),\n",
    "                \"gender\": 2,\n",
    "                \"first_name\": \"First2\",\n",
    "                \"last_name\": \"Last2\",\n",
    "                \"email_address\": \"user2@example.com\",\n",
    "                \"password_token\": \"token2\",\n",
    "                \"phone_number\": \"0987654321\",\n",
    "                \"own_film_collection\": [2],\n",
    "                \"follow_list\": [1],\n",
    "            }\n",
    "        ]\n",
    "user = dict(result)\n",
    "print(ConnectedUser(**user))"
   ]
  }
 ],
 "metadata": {
  "kernelspec": {
   "display_name": ".venv",
   "language": "python",
   "name": "python3"
  },
  "language_info": {
   "codemirror_mode": {
    "name": "ipython",
    "version": 3
   },
   "file_extension": ".py",
   "mimetype": "text/x-python",
   "name": "python",
   "nbconvert_exporter": "python",
   "pygments_lexer": "ipython3",
   "version": "3.10.4"
  }
 },
 "nbformat": 4,
 "nbformat_minor": 2
}
