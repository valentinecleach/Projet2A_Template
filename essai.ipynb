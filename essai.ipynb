{
 "cells": [
  {
   "cell_type": "code",
   "execution_count": null,
   "metadata": {},
   "outputs": [],
   "source": [
    "# MOCK TESTS WITH PYTEST\n",
    "# \n",
    "\n",
    "from unittest import mock\n",
    "\n",
    "import pytest\n",
    "from typing import TYPE_CHECKING, Literal, Optional, Union\n",
    "from src.DAO.movie_dao import MovieDAO\n",
    "from datetime import date\n",
    "from src.Model.movie import Movie\n",
    "from tests.conftest import avatar  # Assurez-vous que `avatar` est bien défini ici\n",
    "\n",
    "class MockMovieDBConnector:\n",
    "    def __init__(self, movie=None):\n",
    "        self.movie = movie or avatar  # Utilise l'avatar si aucun film n'est fourni\n",
    "\n",
    "    def sql_query(\n",
    "        self,\n",
    "        query: str,\n",
    "        data: Optional[Union[tuple, list, dict]] = None,\n",
    "        return_type: Union[Literal[\"one\"], Literal[\"all\"]] = \"one\",\n",
    "    ):\n",
    "        match query:\n",
    "            case \"SELECT * FROM movie WHERE id_movie=%s\":\n",
    "                if not data:\n",
    "                    raise Exception(\"No data provided.\")\n",
    "                id_movie = data[0]  # Récupère l'ID à partir de la donnée\n",
    "                if id_movie == 19995:\n",
    "                    return Movie(**self.movie)\n",
    "        return None  # Pour d'autres requêtes non définies\n",
    "\n",
    "@pytest.fixture\n",
    "def mock_db_connection():\n",
    "    return MockMovieDBConnector()\n",
    "\n",
    "def test_get_movie_by_id(mock_db_connection):\n",
    "    movie_dao = MovieDAO(mock_db_connection)\n",
    "    movie = movie_dao.get_by_id(19995)\n",
    "    \n",
    "    assert movie is not None\n",
    "    assert movie.id_movie == 19995\n",
    "    assert movie.title == \"Avatar\"\n",
    "    assert movie.adult is False\n",
    "    assert movie.budget == 237000000\n",
    "\n",
    "def test_get_movie_by_non_existent_id(mock_db_connection):\n",
    "    movie_dao = MovieDAO(mock_db_connection)\n",
    "    movie = movie_dao.get_by_id(99999)  # ID qui n'existe pas\n",
    "    \n",
    "    assert movie is None  # Vérifiez que la méthode renvoie None pour un film inexistant\n",
    "\n"
   ]
  },
  {
   "cell_type": "code",
   "execution_count": 2,
   "metadata": {},
   "outputs": [
    {
     "data": {
      "text/plain": [
       "[{'username': 'xgarza', 'own_film_collection': None, 'follow_list': None},\n",
       " {'username': 'figueroapaul',\n",
       "  'own_film_collection': None,\n",
       "  'follow_list': None},\n",
       " {'username': 'thomasedwards',\n",
       "  'own_film_collection': [388, 364],\n",
       "  'follow_list': [328, 301, 349, 284, 323]},\n",
       " {'username': 'elizabeth84', 'own_film_collection': None, 'follow_list': None}]"
      ]
     },
     "execution_count": 2,
     "metadata": {},
     "output_type": "execute_result"
    }
   ],
   "source": [
    "from typing import Annotated\n",
    "\n",
    "from fastapi import APIRouter, Depends, HTTPException, status\n",
    "from fastapi.security import HTTPAuthorizationCredentials\n",
    "\n",
    "from src.Model.connected_user import ConnectedUser\n",
    "from src.Model.movie import Movie\n",
    "from src.Webservice.init_app import (\n",
    "    recommend_service,\n",
    "    user_dao,\n",
    "    movie_dao,\n",
    "    user_favorite_dao,\n",
    "    user_follow_dao,\n",
    "    user_interaction_service,\n",
    ")\n",
    "\n",
    "current_user = user_dao.get_user_by_id(431)\n",
    "users = [user_dao.get_user_by_id(id).to_dict() for id in current_user.follow_list]\n",
    "users"
   ]
  },
  {
   "cell_type": "code",
   "execution_count": 10,
   "metadata": {},
   "outputs": [
    {
     "name": "stdout",
     "output_type": "stream",
     "text": [
      "[1, 2]\n"
     ]
    }
   ],
   "source": [
    "comments = [1,None,None,2]\n",
    "comments = [x for x in comments if x != None]\n",
    "print(comments)\n"
   ]
  },
  {
   "cell_type": "code",
   "execution_count": 2,
   "metadata": {},
   "outputs": [
    {
     "ename": "AttributeError",
     "evalue": "'DBConnector' object has no attribute 'db_connection'",
     "output_type": "error",
     "traceback": [
      "\u001b[1;31m---------------------------------------------------------------------------\u001b[0m",
      "\u001b[1;31mAttributeError\u001b[0m                            Traceback (most recent call last)",
      "Cell \u001b[1;32mIn[2], line 11\u001b[0m\n\u001b[0;32m      6\u001b[0m dao \u001b[38;5;241m=\u001b[39m DBConnector()\n\u001b[0;32m      7\u001b[0m query \u001b[38;5;241m=\u001b[39m \u001b[38;5;124m\"\"\"\u001b[39m\n\u001b[0;32m      8\u001b[0m \u001b[38;5;124m    INSERT INTO comment (id_user, id_movie, comment, date)\u001b[39m\n\u001b[0;32m      9\u001b[0m \u001b[38;5;124m    VALUES (\u001b[39m\u001b[38;5;132;01m%s\u001b[39;00m\u001b[38;5;124m, \u001b[39m\u001b[38;5;132;01m%s\u001b[39;00m\u001b[38;5;124m, \u001b[39m\u001b[38;5;132;01m%s\u001b[39;00m\u001b[38;5;124m, \u001b[39m\u001b[38;5;132;01m%s\u001b[39;00m\u001b[38;5;124m);\u001b[39m\n\u001b[0;32m     10\u001b[0m \u001b[38;5;124m    \u001b[39m\u001b[38;5;124m\"\"\"\u001b[39m\n\u001b[1;32m---> 11\u001b[0m \u001b[43mdao\u001b[49m\u001b[38;5;241;43m.\u001b[39;49m\u001b[43mdb_connection\u001b[49m\u001b[38;5;241m.\u001b[39msql_query(query, (\u001b[38;5;241m100\u001b[39m,\u001b[38;5;241m200\u001b[39m,\u001b[38;5;124m\"\u001b[39m\u001b[38;5;124mje l\u001b[39m\u001b[38;5;124m'\u001b[39m\u001b[38;5;124madore\u001b[39m\u001b[38;5;124m\"\u001b[39m,datetime\u001b[38;5;241m.\u001b[39mnow()))\n",
      "\u001b[1;31mAttributeError\u001b[0m: 'DBConnector' object has no attribute 'db_connection'"
     ]
    }
   ],
   "source": [
    "from datetime import datetime\n",
    "from typing import List\n",
    "\n",
    "from src.DAO.db_connection import DBConnector\n",
    "\n",
    "dao = DBConnector()\n",
    "query = \"\"\"\n",
    "    INSERT INTO comment (id_user, id_movie, comment, date)\n",
    "    VALUES (%s, %s, %s, %s);\n",
    "    \"\"\"\n",
    "dao.sql_query(query, (100,200,\"je l'adore\",datetime.now()))"
   ]
  },
  {
   "cell_type": "code",
   "execution_count": null,
   "metadata": {},
   "outputs": [],
   "source": []
  },
  {
   "cell_type": "code",
   "execution_count": 3,
   "metadata": {},
   "outputs": [
    {
     "data": {
      "text/plain": [
       "[1, 4]"
      ]
     },
     "execution_count": 3,
     "metadata": {},
     "output_type": "execute_result"
    }
   ],
   "source": [
    "a=[1,4]\n",
    "b=[1]\n",
    "list(set(a+b))"
   ]
  },
  {
   "cell_type": "code",
   "execution_count": 3,
   "metadata": {},
   "outputs": [
    {
     "name": "stdout",
     "output_type": "stream",
     "text": [
      "9da90a168c5026a3291f7612de2caebc7e36ae4c630416fc3332a41a1c630fee\n"
     ]
    }
   ],
   "source": [
    "from src.Service.password_service import hash_password, create_salt\n",
    "\n",
    "password = \"NoCode\"\n",
    "salt = [\"tes\", \"tuser\", \"2\"]\n",
    "hashed_password = hash_password(password)\n",
    "print(hashed_password)    "
   ]
  },
  {
   "cell_type": "code",
   "execution_count": null,
   "metadata": {},
   "outputs": [
    {
     "name": "stdout",
     "output_type": "stream",
     "text": [
      "Title : Movie 1, ( ID: 1 ), Release Date: 2023-01-01, Popularity: 8.5, Vote Average: 7.5, Vote Count: 1000\n"
     ]
    }
   ],
   "source": [
    "from src.Model.connected_user import ConnectedUser\n",
    "from src.Model.genre import Genre\n",
    "from src.Model.movie import Movie\n",
    "from datetime import date\n",
    "d = Movie(\n",
    "                id_movie=1,\n",
    "                title=\"Movie 1\",\n",
    "                belongs_to_collection=None,\n",
    "                budget=1000000,\n",
    "                genres=[Genre(id=123, name=\"Musical Comedy\")],\n",
    "                origin_country=[\"US\"],\n",
    "                original_language=\"en\",\n",
    "                original_title=\"Movie 1\",\n",
    "                overview=\"Overview 1\",\n",
    "                popularity=8.5,\n",
    "                release_date=date(2023, 1, 1),\n",
    "                revenue=5000000,\n",
    "                runtime=120,\n",
    "                vote_average=7.5,\n",
    "                vote_count=1000,\n",
    "                adult=False,\n",
    "            )\n",
    "print (d)"
   ]
  },
  {
   "cell_type": "code",
   "execution_count": null,
   "metadata": {},
   "outputs": [
    {
     "ename": "ValueError",
     "evalue": "dictionary update sequence element #0 has length 12; 2 is required",
     "output_type": "error",
     "traceback": [
      "\u001b[1;31m---------------------------------------------------------------------------\u001b[0m",
      "\u001b[1;31mValueError\u001b[0m                                Traceback (most recent call last)",
      "Cell \u001b[1;32mIn[8], line 17\u001b[0m\n\u001b[0;32m      1\u001b[0m result\u001b[38;5;241m=\u001b[39m [\n\u001b[0;32m      2\u001b[0m             {\n\u001b[0;32m      3\u001b[0m                 \u001b[38;5;124m\"\u001b[39m\u001b[38;5;124mid_user\u001b[39m\u001b[38;5;124m\"\u001b[39m: \u001b[38;5;241m2\u001b[39m,\n\u001b[1;32m   (...)\u001b[0m\n\u001b[0;32m     15\u001b[0m             }\n\u001b[0;32m     16\u001b[0m         ]\n\u001b[1;32m---> 17\u001b[0m user \u001b[38;5;241m=\u001b[39m \u001b[38;5;28;43mdict\u001b[39;49m\u001b[43m(\u001b[49m\u001b[43mresult\u001b[49m\u001b[43m)\u001b[49m\n\u001b[0;32m     18\u001b[0m \u001b[38;5;28mprint\u001b[39m(ConnectedUser(\u001b[38;5;241m*\u001b[39m\u001b[38;5;241m*\u001b[39muser))\n",
      "\u001b[1;31mValueError\u001b[0m: dictionary update sequence element #0 has length 12; 2 is required"
     ]
    }
   ],
   "source": [
    "result= [\n",
    "            {\n",
    "                \"id_user\": 2,\n",
    "                \"username\": \"user2\",\n",
    "                \"hashed_password\": \"hashed2\",\n",
    "                \"date_of_birth\": date(1992, 2, 2),\n",
    "                \"gender\": 2,\n",
    "                \"first_name\": \"First2\",\n",
    "                \"last_name\": \"Last2\",\n",
    "                \"email_address\": \"user2@example.com\",\n",
    "                \"password_token\": \"token2\",\n",
    "                \"phone_number\": \"0987654321\",\n",
    "                \"own_film_collection\": [2],\n",
    "                \"follow_list\": [1],\n",
    "            }\n",
    "        ]\n",
    "user = dict(result)\n",
    "print(ConnectedUser(**user))"
   ]
  },
  {
   "cell_type": "code",
   "execution_count": 3,
   "metadata": {},
   "outputs": [
    {
     "name": "stdout",
     "output_type": "stream",
     "text": [
      "Google Sheets workbook 'simulated_data.xlsx' with simulated data has been created.\n"
     ]
    }
   ],
   "source": [
    "import pandas as pd\n",
    "import numpy as np\n",
    "\n",
    "# Define the schema based on the provided mermaid code\n",
    "schema = {\n",
    "    \"movie\": [\"id_movie\", \"title\", \"budget\", \"origin_country\", \"original_language\", \"original_title\", \"overview\", \"popularity\", \"release_date\", \"revenue\", \"runtime\", \"vote_average\", \"vote_count\", \"adult\"],\n",
    "    \"genre\": [\"id_genre\", \"name_genre\"],\n",
    "    \"movie_collection\": [\"id_movie_collection\", \"name_movie_collection\"],\n",
    "    \"link_movie_movie_collection\": [\"id_movie\", \"id_movie_collection\"],\n",
    "    \"link_movie_genre\": [\"id_movie\", \"id_genre\"],\n",
    "    \"movie_maker\": [\"id_movie_maker\", \"adult\", \"name\", \"gender\", \"biography\", \"birthday\", \"place_of_birth\", \"deathday\", \"known_for_department\", \"popularity\"],\n",
    "    \"KnownFor\": [\"id_movie\", \"id_movie_maker\"],\n",
    "    \"users\": [\"id_user\", \"username\", \"first_name\", \"last_name\", \"password_token\", \"hashed_password\", \"email_address\", \"date_of_birth\", \"phone_number\", \"gender\"],\n",
    "    \"rating\": [\"id_user\", \"id_movie\", \"rating\", \"date\"],\n",
    "    \"comment\": [\"id_user\", \"id_movie\", \"comment\", \"date\"],\n",
    "    \"follower\": [\"id_user\", \"id_user_followed\", \"date\"]\n",
    "}\n",
    "\n",
    "# Function to generate random data for each table\n",
    "def generate_data(table_name, columns, num_rows=100):\n",
    "    data = {}\n",
    "    for column in columns:\n",
    "        if column == \"id_user\":\n",
    "            data[column] = [i in range(1, num_rows + 1)]\n",
    "        elif column == \"id_movie\":\n",
    "            data[column] = [i in range(1, num_rows + 1)]\n",
    "        elif column == \"id_genre\":\n",
    "            data[column] = [i in range(1, num_rows + 1)]\n",
    "        elif column == \"title\":\n",
    "            data[column] = [f\"movie_{i}\" for i in range(1, num_rows + 1)]\n",
    "        elif column == \"budget\":\n",
    "            data[column] = np.random.uniform(100000, 100000000, num_rows)\n",
    "        elif column == \"origin_country\":\n",
    "            countries = [\"USA\", \"UK\", \"France\", \"Germany\",\"China\", \"Brasil\", \"Spain\", \"Japon\"]\n",
    "            data[column] = np.random.choice(countries, num_rows)\n",
    "        elif column == \"original_language\":\n",
    "            languages = [\"English\", \"French\", \"German\"]\n",
    "            data[column] = np.random.choice(languages, num_rows)\n",
    "        elif column == \"original_title\":\n",
    "            data[column] = [f\"original_title_{i}\" for i in range(1, num_rows + 1)]\n",
    "        elif column == \"overview\":\n",
    "            data[column] = [f\"overview_{i}\" for i in range(1, num_rows + 1)]\n",
    "        elif column == \"popularity\":\n",
    "            data[column] = np.random.uniform(0, 100, num_rows)\n",
    "        elif column == \"release_date\":\n",
    "            data[column] = pd.date_range(start='1/1/2000', periods=num_rows, freq='M')\n",
    "        elif column == 'revenue':\n",
    "            data[column] = np.random.randint(1000000, 1000000000, num_rows)\n",
    "        elif column == 'runtime':\n",
    "            data[column] = np.random.randint(80, 180, num_rows)\n",
    "        elif column == 'vote_average':\n",
    "            data[column] = np.random.uniform(0, 10, num_rows)\n",
    "        elif column == 'vote_count':\n",
    "            data[column] = np.random.randint(0, 10000, num_rows)\n",
    "        elif column == 'adult':\n",
    "            data[column] = np.random.choice([False], num_rows)\n",
    "        elif column == 'name_genre':\n",
    "            genres = [\"Action\", \"Comedy\", \"Drama\", \"Horror\", \"Sci-Fi\",\"Love\",\"revenge\",\"death\",\"Devils\"]\n",
    "            data[column] = np.random.choice(genres, num_rows)\n",
    "        elif column == 'name_movie_collection':\n",
    "            data[column] = [f\"collection_{i}\" for i in range(1, num_rows + 1)]\n",
    "        elif column == 'name':\n",
    "            data[column] = [f\"name_{i}\" for i in range(1, num_rows + 1)]\n",
    "        elif column == 'gender':\n",
    "            data[column] = np.random.choice([0, 1], num_rows)\n",
    "        elif column == 'biography':\n",
    "            data[column] = [f\"biography_{i}\" for i in range(1, num_rows + 1)]\n",
    "        elif column == 'birthday' or column == 'deathday' or column == 'date_of_birth' or column == 'date':\n",
    "            data[column] = pd.date_range(start='1/1/1950', periods=num_rows, freq='Y')\n",
    "        elif column == 'place_of_birth':\n",
    "            places = [\"New York\", \"London\", \"Paris\"]\n",
    "            data[column] = np.random.choice(places, num_rows)\n",
    "        elif column == 'known_for_department':\n",
    "            departments = [\"Directing\", \"Acting\", \"Writing\"]\n",
    "            data[column] = np.random.choice(departments, num_rows)\n",
    "        elif column == 'popularity':\n",
    "            data[column] = np.random.uniform(0, 100, num_rows)\n",
    "        elif column == 'known_for':\n",
    "            known_for_list = [{\"movie_id\": np.random.randint(1, num_rows)} for _ in range(num_rows)]\n",
    "            data[column] = known_for_list\n",
    "        elif column == 'username':\n",
    "            data[column] = [f\"user_{i}\" for i in range(1, num_rows + 1)]\n",
    "        elif column == 'first_name':\n",
    "            first_names = [\"John\", \"Jane\", \"Alice\", \"Bob\"]\n",
    "            data[column] = np.random.choice(first_names, num_rows)\n",
    "        elif column == 'last_name':\n",
    "            last_names = [\"Doe\", \"Smith\", \"Johnson\"]\n",
    "            data[column] = np.random.choice(last_names, num_rows)\n",
    "        elif column == 'password_token' or column == 'hashed_password':\n",
    "            data[column] = [f\"token_{i}\" for i in range(1, num_rows + 1)]\n",
    "        elif column == 'email_address':\n",
    "            data[column] = [f\"user_{i}@example.com\" for i in range(1, num_rows + 1)]\n",
    "        elif column == 'phone_number':\n",
    "            phone_numbers = [f\"+123456789{i}\" for i in range(num_rows)]\n",
    "            data[column] = phone_numbers\n",
    "        else:\n",
    "            data[column] = np.random.randint(1, num_rows + 1, num_rows)\n",
    "    return pd.DataFrame(data)\n",
    "\n",
    "# Generate data for each table\n",
    "dataframes = {table: generate_data(table, columns) for table, columns in schema.items()}\n",
    "\n",
    "# Save each dataframe to a separate sheet in a Google Sheets workbook\n",
    "with pd.ExcelWriter(\"simulated_data.xlsx\") as writer:\n",
    "    for table, df in dataframes.items():\n",
    "        df.to_excel(writer, sheet_name=table, index=False)\n",
    "\n",
    "print(\"Google Sheets workbook 'simulated_data.xlsx' with simulated data has been created.\")\n"
   ]
  },
  {
   "cell_type": "code",
   "execution_count": 4,
   "metadata": {},
   "outputs": [
    {
     "ename": "AttributeError",
     "evalue": "'dict' object has no attribute 'head'",
     "output_type": "error",
     "traceback": [
      "\u001b[1;31m---------------------------------------------------------------------------\u001b[0m",
      "\u001b[1;31mAttributeError\u001b[0m                            Traceback (most recent call last)",
      "Cell \u001b[1;32mIn[4], line 1\u001b[0m\n\u001b[1;32m----> 1\u001b[0m \u001b[43mdataframes\u001b[49m\u001b[38;5;241;43m.\u001b[39;49m\u001b[43mhead\u001b[49m()\n",
      "\u001b[1;31mAttributeError\u001b[0m: 'dict' object has no attribute 'head'"
     ]
    }
   ],
   "source": [
    "dataframes.head()"
   ]
  }
 ],
 "metadata": {
  "kernelspec": {
   "display_name": ".venv",
   "language": "python",
   "name": "python3"
  },
  "language_info": {
   "codemirror_mode": {
    "name": "ipython",
    "version": 3
   },
   "file_extension": ".py",
   "mimetype": "text/x-python",
   "name": "python",
   "nbconvert_exporter": "python",
   "pygments_lexer": "ipython3",
   "version": "3.10.4"
  }
 },
 "nbformat": 4,
 "nbformat_minor": 2
}
